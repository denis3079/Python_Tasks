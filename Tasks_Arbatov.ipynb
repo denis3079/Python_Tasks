{
  "cells": [
    {
      "cell_type": "markdown",
      "metadata": {
        "id": "view-in-github",
        "colab_type": "text"
      },
      "source": [
        "<a href=\"https://colab.research.google.com/github/denis3079/Python_Tasks/blob/main/Tasks_Arbatov.ipynb\" target=\"_parent\"><img src=\"https://colab.research.google.com/assets/colab-badge.svg\" alt=\"Open In Colab\"/></a>"
      ]
    },
    {
      "cell_type": "markdown",
      "id": "df636e3e-d4d6-45af-9889-0c0cb8281e3a",
      "metadata": {
        "id": "df636e3e-d4d6-45af-9889-0c0cb8281e3a"
      },
      "source": [
        "# Задания"
      ]
    },
    {
      "cell_type": "markdown",
      "id": "9797a135-d96b-439c-968a-03e5f46c196f",
      "metadata": {
        "id": "9797a135-d96b-439c-968a-03e5f46c196f"
      },
      "source": [
        "### Задание 1: <a class=\"anchor\" id=\"task1\"></a>\n",
        "Все пункты нужно ввыполнить с использованием ТОЛЬКО срезов\n",
        "* Получите подстроку 'string' из строки test_string\n",
        "* Получите подстроку 'Just' из строки test_string\n",
        "* Получите подстроку 'simple' из строки test_string\n",
        "* Получите каждый 5 символ из строки test_string\n",
        "* Получите каждый 3 символ из строки test_string, начиная с конца."
      ]
    },
    {
      "cell_type": "code",
      "execution_count": null,
      "id": "d869fd8a-8bf1-4dc9-9c3d-162744c1da53",
      "metadata": {
        "id": "d869fd8a-8bf1-4dc9-9c3d-162744c1da53"
      },
      "outputs": [],
      "source": [
        "test_string = 'Just a simple string'"
      ]
    },
    {
      "cell_type": "code",
      "execution_count": null,
      "id": "c84c19ac-f6b2-44f2-9f5e-0eab4ad916d8",
      "metadata": {
        "colab": {
          "base_uri": "https://localhost:8080/"
        },
        "id": "c84c19ac-f6b2-44f2-9f5e-0eab4ad916d8",
        "outputId": "edc040b7-fd2a-41fc-f08b-a7145615cdb9"
      },
      "outputs": [
        {
          "output_type": "stream",
          "name": "stdout",
          "text": [
            "string\n"
          ]
        }
      ],
      "source": [
        "print(test_string[14:20])"
      ]
    },
    {
      "cell_type": "code",
      "execution_count": null,
      "id": "90c8aca2",
      "metadata": {
        "colab": {
          "base_uri": "https://localhost:8080/"
        },
        "id": "90c8aca2",
        "outputId": "c361b8ed-9a37-4924-f4bf-e0d8a553ea59"
      },
      "outputs": [
        {
          "output_type": "stream",
          "name": "stdout",
          "text": [
            "Just\n"
          ]
        }
      ],
      "source": [
        "print(test_string[0:4])"
      ]
    },
    {
      "cell_type": "code",
      "execution_count": null,
      "id": "4b3487a9",
      "metadata": {
        "colab": {
          "base_uri": "https://localhost:8080/"
        },
        "id": "4b3487a9",
        "outputId": "8e195f32-f3f2-44d8-ceb7-c6fcdc51f753"
      },
      "outputs": [
        {
          "output_type": "stream",
          "name": "stdout",
          "text": [
            "simple\n"
          ]
        }
      ],
      "source": [
        "print(test_string[7:13])"
      ]
    },
    {
      "cell_type": "code",
      "execution_count": null,
      "id": "4c459fed",
      "metadata": {
        "colab": {
          "base_uri": "https://localhost:8080/"
        },
        "id": "4c459fed",
        "outputId": "3f83b88c-8a95-4b9e-e93a-04227e7dda45"
      },
      "outputs": [
        {
          "output_type": "stream",
          "name": "stdout",
          "text": [
            "Japt\n"
          ]
        }
      ],
      "source": [
        "print(test_string[0::5])"
      ]
    },
    {
      "cell_type": "code",
      "execution_count": null,
      "id": "788595ad",
      "metadata": {
        "colab": {
          "base_uri": "https://localhost:8080/"
        },
        "id": "788595ad",
        "outputId": "0c60b87e-c7f8-491e-ddc7-baffaea2c281"
      },
      "outputs": [
        {
          "output_type": "stream",
          "name": "stdout",
          "text": [
            "islias\n"
          ]
        }
      ],
      "source": [
        "print(test_string[-3::-3])"
      ]
    },
    {
      "cell_type": "markdown",
      "id": "c3c5dce5-6ef5-41b7-a2ab-69b2216e7e2b",
      "metadata": {
        "id": "c3c5dce5-6ef5-41b7-a2ab-69b2216e7e2b"
      },
      "source": [
        "### Задание 2: <a class=\"anchor\" id=\"task3\"></a>\n",
        "\n",
        "Написать функцию, которая будет принимать одно значение с логическим типы, а затем ковертировать их в строковые 'True' и 'False' и возвращать эти значения."
      ]
    },
    {
      "cell_type": "code",
      "execution_count": null,
      "id": "e2d8b047",
      "metadata": {
        "colab": {
          "base_uri": "https://localhost:8080/"
        },
        "id": "e2d8b047",
        "outputId": "4ad21dfb-be0e-4367-962c-2a4220a7b0f2"
      },
      "outputs": [
        {
          "output_type": "stream",
          "name": "stdout",
          "text": [
            "True False\n"
          ]
        }
      ],
      "source": [
        "boolean_1 = True\n",
        "boolean_2 = False\n",
        "\n",
        "def strin(boolean_1, boolean_2):\n",
        "    return strin\n",
        "print(str(boolean_1), str(boolean_2))"
      ]
    },
    {
      "cell_type": "markdown",
      "id": "e9c96901",
      "metadata": {
        "id": "e9c96901"
      },
      "source": [
        "### Задание 3: <a class=\"anchor\" id=\"task3\"></a>\n",
        "\n",
        "Написать функцию, которая будет приниметь одно значение - список. Вычислить разницу между максимальным и минимальным значением и вернуть его."
      ]
    },
    {
      "cell_type": "code",
      "execution_count": null,
      "id": "84777742",
      "metadata": {
        "colab": {
          "base_uri": "https://localhost:8080/"
        },
        "id": "84777742",
        "outputId": "68a4111d-e10b-4bdc-e4c3-b61951ac4830"
      },
      "outputs": [
        {
          "output_type": "stream",
          "name": "stdout",
          "text": [
            "63\n"
          ]
        }
      ],
      "source": [
        "numbers = [1, 2, 4, 8, 16, 32, 64]\n",
        "\n",
        "def num(numbers):\n",
        "    return num\n",
        "num = max(numbers) - min(numbers)\n",
        "print(num)"
      ]
    },
    {
      "cell_type": "markdown",
      "id": "0b6288de-c3d6-412e-bc1b-67e876feb0cd",
      "metadata": {
        "id": "0b6288de-c3d6-412e-bc1b-67e876feb0cd"
      },
      "source": [
        "### Задание 4: <a class=\"anchor\" id=\"task4\"></a>\n",
        "\n",
        "Написать функцию, которая будет принимать одно значение - число. Функция должна возвращать список всех четных чисел в диапозоне от 1 до полученного числа. В этом задании нужно использовать list comprehension."
      ]
    },
    {
      "cell_type": "code",
      "execution_count": null,
      "id": "2bdd7c3c",
      "metadata": {
        "colab": {
          "base_uri": "https://localhost:8080/"
        },
        "id": "2bdd7c3c",
        "outputId": "a8fde0c2-be7d-4992-9366-6a5c418a3b67"
      },
      "outputs": [
        {
          "output_type": "stream",
          "name": "stdout",
          "text": [
            "[2, 4, 6, 8, 10, 12]\n"
          ]
        }
      ],
      "source": [
        "x = 12\n",
        "\n",
        "def number(x):\n",
        "    return number\n",
        "number = list(range(2, x+1, 2)) #range(start, stop, step)\n",
        "print(number)"
      ]
    },
    {
      "cell_type": "markdown",
      "id": "784e2f99",
      "metadata": {
        "id": "784e2f99"
      },
      "source": [
        "### Задание 5: <a class=\"anchor\" id=\"task2\"></a>\n",
        "\n",
        "Напишите функцию, который имеет два аргумента - x и y. Функция должна выводить координатный угол, в котором находятся координаты (x, y). \n",
        "Точки внутри координатного угла I имеют положительные абсциссы и ординаты.\n",
        "Точки внутри координатного угла II имеют отрицательные абсциссы и положительные ординаты.\n",
        "Точки внутри координатного угла III имеют отрицательные абсциссы и ординаты\n",
        "Точки внутри координатного угла IV имеют положительные абсциссы и отрицательные ординаты."
      ]
    },
    {
      "cell_type": "code",
      "execution_count": null,
      "id": "fa2bec36",
      "metadata": {
        "colab": {
          "base_uri": "https://localhost:8080/"
        },
        "id": "fa2bec36",
        "outputId": "0dd18fd8-c6a0-4ebb-96c2-00416ff637aa"
      },
      "outputs": [
        {
          "output_type": "stream",
          "name": "stdout",
          "text": [
            "Введите значение X = -5\n",
            "Введите значение Y = 5\n",
            "координатный угол II\n"
          ]
        }
      ],
      "source": [
        "def print_angle(x , y):\n",
        "    while True:\n",
        "        if ((x > 0) and (y > 0)):\n",
        "            result = \"координатный угол I\"\n",
        "            print(result)\n",
        "            break\n",
        "        if((x < 0) and (y > 0)):\n",
        "            result = \"координатный угол II\"\n",
        "            print(result)\n",
        "            break\n",
        "        if((x < 0) and (y <= 0)):\n",
        "            result = \"координатный угол III\"\n",
        "            print(result)\n",
        "            break\n",
        "        else:\n",
        "            (( x> 0)and(y < 0))\n",
        "            result = \"координатный угол IV\"\n",
        "            print(result)\n",
        "            break\n",
        "result = None\n",
        "X = int(input('Введите значение X = '))\n",
        "Y = int(input('Введите значение Y = '))\n",
        " \n",
        "print_angle(X , Y)"
      ]
    },
    {
      "cell_type": "markdown",
      "id": "2675cea1-381b-4fe8-821c-c911609f6375",
      "metadata": {
        "id": "2675cea1-381b-4fe8-821c-c911609f6375"
      },
      "source": [
        "### Задание 6: <a class=\"anchor\" id=\"task2\"></a>\n",
        "\n",
        "Напишите функцию, которая принимает одно значение - число . Функция должна возвращать строку - полученное число в двоичном виде"
      ]
    },
    {
      "cell_type": "code",
      "execution_count": null,
      "id": "e0ab43ed",
      "metadata": {
        "colab": {
          "base_uri": "https://localhost:8080/"
        },
        "id": "e0ab43ed",
        "outputId": "296d3173-cb50-4dad-ce01-9f68c2f2ea5f"
      },
      "outputs": [
        {
          "output_type": "stream",
          "name": "stdout",
          "text": [
            "0b111\n"
          ]
        }
      ],
      "source": [
        "y = 7\n",
        "\n",
        "def number(y):\n",
        "    return number\n",
        "number = bin(y)\n",
        "print(number)"
      ]
    },
    {
      "cell_type": "markdown",
      "id": "e51f0796-696b-4a3e-b0d8-e11ac919160e",
      "metadata": {
        "id": "e51f0796-696b-4a3e-b0d8-e11ac919160e"
      },
      "source": [
        "### Задание 7:<a class=\"anchor\" id=\"task5\"></a>\n",
        "\n",
        "Написать функцию, которая будет принимать одно значение - список. Список содержит числа. Все числа, кроме двух, повторяются как минимум два раза. Вернуть список из этих двух неповторяющихся чисел"
      ]
    },
    {
      "cell_type": "code",
      "execution_count": null,
      "id": "1fdbad76",
      "metadata": {
        "colab": {
          "base_uri": "https://localhost:8080/"
        },
        "id": "1fdbad76",
        "outputId": "96136b4c-a094-406c-9378-f7bf48263df5"
      },
      "outputs": [
        {
          "output_type": "stream",
          "name": "stdout",
          "text": [
            "[1, 1, 4, 8, 4, 32, 4]\n",
            "[8, 32]\n"
          ]
        }
      ],
      "source": [
        "data = [1, 1, 4, 8, 4, 32, 4]\n",
        "print(data)\n",
        "s =[]\n",
        "for i in data:\n",
        "    if data.count(i) == 1:\n",
        "        s.append(i)\n",
        "print(s)"
      ]
    },
    {
      "cell_type": "markdown",
      "id": "1a86d698-d2dd-4c8e-9b72-081e5b491d67",
      "metadata": {
        "tags": [],
        "id": "1a86d698-d2dd-4c8e-9b72-081e5b491d67"
      },
      "source": [
        "### Задание 8: <a class=\"anchor\" id=\"task2\"></a>\n",
        "\n",
        "Напишите функцию, которая принимает два значения - числа **num**, **length** (основное число, количество умножений). Функция должна возвращать список перемножений числа **num** **length** раз. Пример: test_function(7, 5) ➞ [7, 14, 21, 28, 35]"
      ]
    },
    {
      "cell_type": "code",
      "execution_count": null,
      "id": "e61fe928",
      "metadata": {
        "colab": {
          "base_uri": "https://localhost:8080/"
        },
        "id": "e61fe928",
        "outputId": "4e914c85-583c-4dd5-a956-397981693c45"
      },
      "outputs": [
        {
          "output_type": "stream",
          "name": "stdout",
          "text": [
            "Введите основное число7\n",
            "Введите количество умножений: 7\n",
            "[7, 14, 21, 28, 35, 42, 49]\n"
          ]
        }
      ],
      "source": [
        "num = int(input(\"Введите основное число\"))\n",
        "length = int(input(\"Введите количество умножений: \"))\n",
        "old_list = list(range(1, length+1))\n",
        "my_new_list = [i * num for i in old_list]\n",
        "print(my_new_list)"
      ]
    },
    {
      "cell_type": "markdown",
      "id": "161d9601-6b3c-4d05-87a5-e1a1214ace33",
      "metadata": {
        "id": "161d9601-6b3c-4d05-87a5-e1a1214ace33"
      },
      "source": [
        "### Задание 9: <a class=\"anchor\" id=\"task6\"></a>\n",
        "\n",
        "Написать функцию, которая будет принимать одно значение - строку. Функция должна возвращать представление полученной строки закодированной азбукой Морзе. Входная строка может содержать буквы как нижнего, так и верхнего регистра. Междк всеми словами присутствует пробел"
      ]
    },
    {
      "cell_type": "code",
      "execution_count": null,
      "id": "523bfdcc",
      "metadata": {
        "colab": {
          "base_uri": "https://localhost:8080/",
          "height": 35
        },
        "id": "523bfdcc",
        "outputId": "9427d52b-0fc1-4c2c-b868-685c1a93bfb7"
      },
      "outputs": [
        {
          "output_type": "execute_result",
          "data": {
            "text/plain": [
              "'-- -... -.. ..--- .---- ...-- .----'"
            ],
            "application/vnd.google.colaboratory.intrinsic+json": {
              "type": "string"
            }
          },
          "metadata": {},
          "execution_count": 23
        }
      ],
      "source": [
        "M = {'A': '.-', 'B': '-...', 'C': '-.-.', 'D': '-..', 'E': '.', 'F': '..-.',\n",
        "  'G': '--.', 'H': '....', 'I': '..', 'J': '.---', 'K': '-.-', 'L': '.-..',\n",
        "  'M': '--', 'N': '-.', 'O': '---', 'P': '.--.', 'Q': '--.-', 'R': '.-.',\n",
        "  'S': '...', 'T': '-', 'U': '..-', 'V': '...-', 'W': '.--', 'X': '-..-',\n",
        "  'Y': '-.--', 'Z': '--..', ' ': ' ', '0': '-----',\n",
        "  '1': '.----', '2': '..---', '3': '...--', '4': '....-', '5': '.....',\n",
        "  '6': '-....', '7': '--...', '8': '---..', '9': '----.',\n",
        "  '&': '.-...', \"'\": '.----.', '@': '.--.-.', ')': '-.--.-', '(': '-.--.',\n",
        "  ':': '---...', ',': '--..--', '=': '-...-', '!': '-.-.--', '.': '.-.-.-',\n",
        "  '-': '-....-', '+': '.-.-.', '\"': '.-..-.', '?': '..--..', '/': '-..-.'}\n",
        "\n",
        "def morse(str1):\n",
        "    return ' '.join(M.get(i.upper()) for i in str1)\n",
        "\n",
        "morse('MBD2131')"
      ]
    },
    {
      "cell_type": "markdown",
      "id": "68697415-e336-4bc2-8ef2-4994885da0d6",
      "metadata": {
        "id": "68697415-e336-4bc2-8ef2-4994885da0d6"
      },
      "source": [
        "### Задание 10: <a class=\"anchor\" id=\"task6\"></a>\n",
        "\n",
        "Написать функцию, которая будет принимать одно значение - список. Функция должна возвращать самое частое значение в списке (встречается > N/2). Пример: test_function([\"A\", \"A\", \"A\", \"B\", \"C\", \"A\"]) ➞ \"A\""
      ]
    },
    {
      "cell_type": "code",
      "source": [
        "def Common_Meaning():\n",
        "  data = ['A', 'A', 'A', 'B', 'C', 'A']\n",
        "  for i in data:\n",
        "    if data.count(i) >= len(data)/2:\n",
        "      Value = i\n",
        "  print({Value})\n",
        "Common_Meaning()"
      ],
      "metadata": {
        "colab": {
          "base_uri": "https://localhost:8080/"
        },
        "id": "06oPyKJtSQZd",
        "outputId": "a32708c4-a7a4-4fe0-f948-af935c535422"
      },
      "id": "06oPyKJtSQZd",
      "execution_count": null,
      "outputs": [
        {
          "output_type": "stream",
          "name": "stdout",
          "text": [
            "{'A'}\n"
          ]
        }
      ]
    },
    {
      "cell_type": "markdown",
      "id": "45c23be5",
      "metadata": {
        "id": "45c23be5"
      },
      "source": [
        "### Задание 11: \n",
        "Создайте функцию для выполнения основных арифметических операций, которая применяет сложение, вычитание, умножение и деление к строковому значению (например, \"12 + 24\" или \"23-21\" или \"12 // 12\" или \"12 * 21\").\n",
        "\n",
        "Здесь у нас есть 1 число, за которым следует пробел, затем оператор, за которым следует другой пробел, и 2 число. Возвращаемое значение должно быть числом.\n",
        "\n",
        "Применение функции eval() не допускается. В случае деления, всякий раз, когда второе число равно \"0\", возвращайте -1."
      ]
    },
    {
      "cell_type": "code",
      "source": [
        "def Calc():\n",
        "    num_1 = input(\"Введите первое значение: \")\n",
        "    sign = input(\"Введите арифметический знак: \")\n",
        "    num_2 = input(\"Введите второе значение: \")\n",
        "    if sign == \"+\":\n",
        "        res = int(num_1) + int(num_2)\n",
        "    if sign == \"-\":\n",
        "        res = int(num_1) - int(num_2)\n",
        "    if sign == \"*\":\n",
        "        res = int(num_1) * int(num_2)\n",
        "    if sign == \"/\":\n",
        "        if num_2 != \"0\":\n",
        "            res = int(num_1) // int(num_2)\n",
        "        else:\n",
        "            res = -1\n",
        "    return res\n",
        "print(Calc())"
      ],
      "metadata": {
        "colab": {
          "base_uri": "https://localhost:8080/"
        },
        "id": "E6hjYrlNU4rH",
        "outputId": "3c905a2b-4ea6-4668-f94f-ded7881fe4eb"
      },
      "id": "E6hjYrlNU4rH",
      "execution_count": null,
      "outputs": [
        {
          "output_type": "stream",
          "name": "stdout",
          "text": [
            "Введите первое значение: 45\n",
            "Введите арифметический знак: /\n",
            "Введите второе значение: 0\n",
            "-1\n"
          ]
        }
      ]
    },
    {
      "cell_type": "markdown",
      "id": "625a4901",
      "metadata": {
        "id": "625a4901"
      },
      "source": [
        "### Задание 12: \n",
        "Напишите функцию, которая принимает список списков и возвращает значение всех символов в нем, где каждый символ добавляет или отнимает что-то от общего балла. Значения символов:\n",
        "\n",
        "* \\# = 5\n",
        "* О = 3\n",
        "* Х = 1\n",
        "* ! = -1\n",
        "* !! = -3\n",
        "* !!! = -5\n",
        "\n",
        "Если итоговый результат отрицательный, верните 0 (например, 3 ``#``, 3 ``!!``, 2 ``!!!`` и ``X`` будет (5 + 5 + 5 - 3 - 3 - 3 - 5 - 5 + 1) = -3, так что верните 0."
      ]
    },
    {
      "cell_type": "code",
      "source": [
        "char = ['#', '#', '#'], ['!!', '!!', '!!'], ['!!!', '!!!'], ['X']\n",
        "\n",
        "def dict_mul(lists: list) -> int:\n",
        "    dict = {'#': 5, 'О': 3, 'X': 1, '!': -1, '!!': -3, '!!!': -5,}\n",
        "    result = 0\n",
        "    for list in lists:\n",
        "        for i in list:\n",
        "            if dict.get(i) is not None:\n",
        "                result += dict.get(i)\n",
        "    return result if result > 0 else 0\n",
        "print(dict_mul(char))"
      ],
      "metadata": {
        "colab": {
          "base_uri": "https://localhost:8080/"
        },
        "id": "ntOyJfn5pgXu",
        "outputId": "68dc5b61-e358-42f0-e0a4-64627fa9ee2e"
      },
      "id": "ntOyJfn5pgXu",
      "execution_count": null,
      "outputs": [
        {
          "output_type": "stream",
          "name": "stdout",
          "text": [
            "0\n"
          ]
        }
      ]
    },
    {
      "cell_type": "markdown",
      "id": "7f9ab5f3-76cf-4126-96df-2b77b7cc7cb1",
      "metadata": {
        "id": "7f9ab5f3-76cf-4126-96df-2b77b7cc7cb1"
      },
      "source": [
        "### Задание 13: <a class=\"anchor\" id=\"task7\"></a>\n",
        "\n",
        "Написать функцию, которая будет принимать одно значение - строку. Функция определяет свободные и занятые участки пляжа. Строка состоит из двух символов 0 - свободный участок, 1 - занятый участок. Из-за недавних ограничений новый человек не может занять место рядом с другим. Должно быть одно свободное место между двумя людьми, отдыхающими на пляже. Функци должна вернуть число - количество новых людей, которые могут воспользоваться местами на пляже."
      ]
    },
    {
      "cell_type": "code",
      "execution_count": null,
      "id": "0171d0ce",
      "metadata": {
        "colab": {
          "base_uri": "https://localhost:8080/"
        },
        "id": "0171d0ce",
        "outputId": "bb938b76-b54a-47b3-c32b-a2bdb1e31250"
      },
      "outputs": [
        {
          "output_type": "stream",
          "name": "stdout",
          "text": [
            "Количество свободных участков на пляже:\n",
            "5\n"
          ]
        }
      ],
      "source": [
        "str_00 = '1010101010'\n",
        "count = 0\n",
        "for i in str_00:\n",
        "    if i == '0': \n",
        "        count = count + 1\n",
        "print('Количество свободных участков на пляже:')\n",
        "print((count))"
      ]
    },
    {
      "cell_type": "markdown",
      "id": "42f0da6e-b9bd-4cec-9045-22522e0bd1a3",
      "metadata": {
        "id": "42f0da6e-b9bd-4cec-9045-22522e0bd1a3"
      },
      "source": [
        "### Задание 14: <a class=\"anchor\" id=\"task7\"></a>\n",
        "\n",
        "Написать функцию, которая будет принимать одно значение - строку или список. Необходимо зашифровать строку. Первый элемент строки - код буквы в ascii (например 'a' = 97, a 'A' = 65). Следующий элемент - закодированная с помощью таблицы разница между текущим и предыдущим символом, итд. Если подается список - необходимо расшифровать его. Алгоритм такой же - первое число перекодируется в соответствием с таблицей ascii, второй символ - сумма первого и второго числа перекодированная с помощью таблицы ascii."
      ]
    },
    {
      "cell_type": "code",
      "execution_count": null,
      "id": "b2be5dd4",
      "metadata": {
        "id": "b2be5dd4"
      },
      "outputs": [],
      "source": [
        "test_function(\"Hello\") ➞ [72, 29, 7, 0, 3]\n",
        "\n",
        "test_function([ 72, 33, -73, 84, -12, -3, 13, -13, -68 ]) ➞ \"Hi there!\""
      ]
    },
    {
      "cell_type": "code",
      "source": [
        "text = input(\"Введите строку или список для конвертации:\")\n",
        "\n",
        "def ascii(new_text):\n",
        "    new_string = new_text.replace(',', '')\n",
        "    new_text.split()\n",
        "    new_string_list = new_string.split()\n",
        "    if new_text[0] != '[':\n",
        "        result_string = [ord(new_text[0])]\n",
        "        for i in range(1, len(new_text)):\n",
        "            result = ord(new_text[i]) - ord(new_text[i - 1])\n",
        "            result_string.append(result)\n",
        "        print(result_string)\n",
        "    if new_string_list[0] == '[':\n",
        "        new_string_list.remove('[')\n",
        "        new_string_list.remove(']')\n",
        "        result_string = ['']\n",
        "        test = 0\n",
        "        for i in range(1, len(new_string_list) + 1):\n",
        "            test += int(new_string_list[i-1])\n",
        "            result = chr(test)\n",
        "            result_string.append(result)\n",
        "        print(''.join(result_string))\n",
        "\n",
        "ascii(text)"
      ],
      "metadata": {
        "colab": {
          "base_uri": "https://localhost:8080/"
        },
        "id": "gg7knhGlyAUW",
        "outputId": "e31476dc-b787-4905-b541-8a4bf95032fe"
      },
      "id": "gg7knhGlyAUW",
      "execution_count": null,
      "outputs": [
        {
          "output_type": "stream",
          "name": "stdout",
          "text": [
            "Введите строку или список для конвертации:[ 72, 33, -73, 84, -12, -3, 13, -13, -68 ]\n",
            "Hi there!\n"
          ]
        }
      ]
    },
    {
      "cell_type": "markdown",
      "id": "6a1fcab1",
      "metadata": {
        "id": "6a1fcab1"
      },
      "source": [
        "### Задание 15:\n",
        "Создайте функцию, которая определяет, может ли c каждого места в концертном зале видеть сцену. С места можно увидеть сцену, если значение этого места (указано во входном списке) строго больше, чем значение перед ним.\n",
        "\n",
        "Каждый может увидеть сцену в примере ниже:\n",
        "\n",
        "``[[1, 2, 3, 2, 1, 1],\n",
        " [2, 4, 4, 3, 2, 2],\n",
        " [5, 5, 5, 5, 4, 4],\n",
        " [6, 6, 7, 6, 5, 5]]``\n",
        "\n",
        "Не все видят сцену:\n",
        "\n",
        "``[[1, 2, 3, 2, 1, 1], \n",
        "  [2, 4, 4, 3, 2, 2], \n",
        "  [5, 5, 5, 10, 4, 4], \n",
        "  [6, 6, 7, 6, 5, 5]]``\n",
        "\n",
        "Функция должна возвращать True, если абсолютно все видят сцену, ичане False"
      ]
    },
    {
      "cell_type": "code",
      "source": [
        "See = [[1, 2, 3, 2, 1, 1], [2, 4, 4, 3, 2, 2], [5, 5, 5, 5, 4, 4], [6, 6, 7, 6, 5, 5]]\n",
        "Not_See = [[1, 2, 3, 2, 1, 1], [2, 4, 4, 3, 2, 2], [5, 5, 5, 10, 4, 4], [6, 6, 7, 6, 5, 5]]\n",
        "\n",
        "def isVisible(list: list) -> bool:\n",
        "    i = 0\n",
        "    while i < len(list):\n",
        "        k = 0\n",
        "        if i == len(list) - 1:\n",
        "            break\n",
        "        for item in list[i]:\n",
        "            if item > list[i + 1][k]:\n",
        "                return False\n",
        "            k += 1\n",
        "        i += 1\n",
        "    return True\n",
        "print(isVisible(See))"
      ],
      "metadata": {
        "colab": {
          "base_uri": "https://localhost:8080/"
        },
        "id": "cm9pV3B83tQd",
        "outputId": "5e13fb93-2373-4720-b4aa-d815889fe173"
      },
      "id": "cm9pV3B83tQd",
      "execution_count": null,
      "outputs": [
        {
          "output_type": "stream",
          "name": "stdout",
          "text": [
            "True\n"
          ]
        }
      ]
    },
    {
      "cell_type": "markdown",
      "id": "319200b1",
      "metadata": {
        "id": "319200b1"
      },
      "source": [
        "### Задание 16:\n",
        "Создать функции, которая будет строить лестницу, используя знаки ‘_’ и ‘#’. Положительное значение обозначают, что направление лестницы направленно вверх и вниз для отрицательных значений.\n",
        "Пример\n",
        "\n",
        "``staircase(3) ➞ \"__#\\n_##\\n###\"\n",
        "__#\n",
        "_##\n",
        "###``\n",
        "\n",
        "``staircase(7) ➞ \"______#\\n_____##\\n____###\\n___####\\n__#####\\n_######\\n#######\"\n",
        "______#\n",
        "_____##\n",
        "____###\n",
        "___####\n",
        "__#####\n",
        "_######\n",
        "#######``\n",
        "\n",
        "``staircase(2) ➞ \"_#\\n##\"\n",
        "_#\n",
        "##``\n",
        "\n",
        "``staircase(-8) ➞ \"########\\n_#######\\n__######\\n___#####\\n____####\\n_____###\\n______##\\n_______#\"\n",
        "########\n",
        "_#######\n",
        "__######\n",
        "___#####\n",
        "____####\n",
        "_____###\n",
        "______##\n",
        "_______#``\n",
        "\n",
        "Замечания:\n",
        "Возвращаемая строка дополняется символом перехода на новую строку \\n"
      ]
    },
    {
      "cell_type": "code",
      "source": [
        "In = int(input('Введите число ступенек лестницы '))\n",
        "\n",
        "def Staircase(In):\n",
        "    res = ''\n",
        "    if In > 0:\n",
        "        for count in range(1, In + 1):\n",
        "            res += '_' * (num - count) + '#' * count + '\\n'\n",
        "    elif In < 0:\n",
        "        for count in range(In, 0):\n",
        "            res += '_' * abs(num - count) + '#' * abs(count) + '\\n'\n",
        "    return res\n",
        "print(Staircase(In))"
      ],
      "metadata": {
        "colab": {
          "base_uri": "https://localhost:8080/"
        },
        "id": "1CQVB1n08c78",
        "outputId": "53806449-fce3-44ab-e42f-6c5e60a2279f"
      },
      "id": "1CQVB1n08c78",
      "execution_count": null,
      "outputs": [
        {
          "output_type": "stream",
          "name": "stdout",
          "text": [
            "Введите число ступенек лестницы 5\n",
            "____#\n",
            "___##\n",
            "__###\n",
            "_####\n",
            "#####\n",
            "\n"
          ]
        }
      ]
    },
    {
      "cell_type": "markdown",
      "id": "a255ef44",
      "metadata": {
        "id": "a255ef44"
      },
      "source": [
        "### Задание 17:\n",
        "\n",
        "Имеется строка из символов в нижнем регистре ascii[[\"a\"..\"z\"]]. Нужно сократить строку следующим образом: берется пара соседних символов и если они одинаковы, то они удаляются. Например aab должно превратится в b.\n",
        "Нужно удалить как можно больше символов. Если результирующая строка пустая, нужно вернуть \"Empty String\"\n",
        "\n",
        "Пример:\n",
        "\n",
        "``super_reduced_string(\"aaabccddd\") ➞ \"abd\"``"
      ]
    },
    {
      "cell_type": "code",
      "source": [
        "s = 'aaabccddd'\n",
        "\n",
        "def Del_Pair(string: str) -> str:\n",
        "    i = 0\n",
        "    result = ''\n",
        "    while i < len(string):\n",
        "        if string[i] != string[i + 1]:\n",
        "            result += string[i]\n",
        "            i += 1\n",
        "        else:\n",
        "            i += 2\n",
        "        if i == len(string) - 1:\n",
        "            result += string[i]\n",
        "            break\n",
        "        elif i > len(string) - 1:\n",
        "            break\n",
        "    return result if result else 'Empty String'\n",
        "print(Del_Pair(s))"
      ],
      "metadata": {
        "colab": {
          "base_uri": "https://localhost:8080/"
        },
        "id": "uz9rvQXH_g0v",
        "outputId": "b9e52939-4aa9-4370-b130-c3c0546fde6b"
      },
      "id": "uz9rvQXH_g0v",
      "execution_count": null,
      "outputs": [
        {
          "output_type": "stream",
          "name": "stdout",
          "text": [
            "abd\n"
          ]
        }
      ]
    },
    {
      "cell_type": "markdown",
      "id": "e848fcd5",
      "metadata": {
        "id": "e848fcd5"
      },
      "source": [
        "### Задание 18:\n",
        "\n",
        "Создать функцию, которая вернет ближайшую к текущей странице главу. Если две главы одинаково близко, то выбирается та, которая находится на большей по порядку странице.\n",
        "Пример\n",
        "\n",
        "``nearest_chapter({\n",
        "  \"Chapter 1\" : 1,\n",
        "  \"Chapter 2\" : 15,\n",
        "  \"Chapter 3\" : 37\n",
        "}, 10) ➞ \"Chapter 2\"``\n",
        "\n",
        "\n",
        "``nearest_chapter({\n",
        "  \"New Beginnings\" : 1,\n",
        "  \"Strange Developments\" : 62,\n",
        "  \"The End?\" : 194,\n",
        "  \"The True Ending\" : 460\n",
        "}, 200) ➞ \"The End?\"``\n",
        "\n",
        "\n",
        "``nearest_chapter({\n",
        "  \"Chapter 1a\" : 1,\n",
        "  \"Chapter 1b\" : 5\n",
        "}, 3) ➞ \"Chapter 1b\"``"
      ]
    },
    {
      "cell_type": "code",
      "source": [
        "Dict = {\"Chapter 1\" : 1, \"Chapter 2\" : 15, \"Chapter 3\" : 37}\n",
        "Page = 10\n",
        "\n",
        "def nearest_chapter(Dict: list, Page: int):\n",
        "    Num = ''\n",
        "    for k in Dict:\n",
        "        if Num == '': Num = k\n",
        "        else:\n",
        "            if abs(list[Num] - Page) > (abs(list[k] - Page)): Num = k\n",
        "            elif abs(list[Num] - Page) == (abs(list[k] - Page)):\n",
        "                if list[Num] < list[k]: Num = k\n",
        "    return Num\n",
        "print(nearest_chapter(Dict, Page))"
      ],
      "metadata": {
        "colab": {
          "base_uri": "https://localhost:8080/"
        },
        "id": "WysIRrL1M_Ws",
        "outputId": "2103eb13-0cf7-45ea-9aee-993dd9a5cf35"
      },
      "id": "WysIRrL1M_Ws",
      "execution_count": null,
      "outputs": [
        {
          "output_type": "stream",
          "name": "stdout",
          "text": [
            "Chapter 2\n"
          ]
        }
      ]
    }
  ],
  "metadata": {
    "kernelspec": {
      "display_name": "Python 3 (ipykernel)",
      "language": "python",
      "name": "python3"
    },
    "language_info": {
      "codemirror_mode": {
        "name": "ipython",
        "version": 3
      },
      "file_extension": ".py",
      "mimetype": "text/x-python",
      "name": "python",
      "nbconvert_exporter": "python",
      "pygments_lexer": "ipython3",
      "version": "3.10.4"
    },
    "colab": {
      "name": "Tasks_Arbatov.ipynb",
      "provenance": [],
      "collapsed_sections": [],
      "include_colab_link": true
    }
  },
  "nbformat": 4,
  "nbformat_minor": 5
}